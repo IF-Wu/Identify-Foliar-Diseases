{
 "cells": [
  {
   "cell_type": "markdown",
   "metadata": {},
   "source": [
    "### EfficientNet-B7"
   ]
  },
  {
   "cell_type": "markdown",
   "metadata": {},
   "source": [
    "The EfficientNet is a pretrained CNN model, we use it to predict images"
   ]
  },
  {
   "cell_type": "code",
   "execution_count": 1,
   "metadata": {},
   "outputs": [
    {
     "name": "stdout",
     "output_type": "stream",
     "text": [
      "Sat Jun 06 00:21:55 2020       \n",
      "+-----------------------------------------------------------------------------+\n",
      "| NVIDIA-SMI 445.87       Driver Version: 445.87       CUDA Version: 11.0     |\n",
      "|-------------------------------+----------------------+----------------------+\n",
      "| GPU  Name            TCC/WDDM | Bus-Id        Disp.A | Volatile Uncorr. ECC |\n",
      "| Fan  Temp  Perf  Pwr:Usage/Cap|         Memory-Usage | GPU-Util  Compute M. |\n",
      "|===============================+======================+======================|\n",
      "|   0  GeForce RTX 208... WDDM  | 00000000:01:00.0  On |                  N/A |\n",
      "| 13%   55C    P0    66W / 260W |    519MiB / 11264MiB |      7%      Default |\n",
      "+-------------------------------+----------------------+----------------------+\n",
      "                                                                               \n",
      "+-----------------------------------------------------------------------------+\n",
      "| Processes:                                                                  |\n",
      "|  GPU                  PID   Type   Process name                  GPU Memory |\n",
      "|                                                                  Usage      |\n",
      "|=============================================================================|\n",
      "|    0                 3048    C+G   ...stic_Light\\LEDKeeper2.exe    N/A      |\n",
      "|    0                 3240    C+G   ...perience\\NVIDIA Share.exe    N/A      |\n",
      "|    0                 9784    C+G   ...me\\Application\\chrome.exe    N/A      |\n",
      "|    0                15752    C+G   Insufficient Permissions        N/A      |\n",
      "|    0                16908    C+G   D:\\WeChat\\WeChatWeb.exe         N/A      |\n",
      "|    0                24216    C+G   ...es.TextInput.InputApp.exe    N/A      |\n",
      "|    0                47208    C+G   ...artMenuExperienceHost.exe    N/A      |\n",
      "|    0                84784    C+G   ...perience\\NVIDIA Share.exe    N/A      |\n",
      "|    0                86548    C+G   C:\\Windows\\explorer.exe         N/A      |\n",
      "|    0                90424    C+G   D:\\WeChat\\WeChatApp.exe         N/A      |\n",
      "|    0               130436    C+G   ...w5n1h2txyewy\\SearchUI.exe    N/A      |\n",
      "|    0               157224    C+G   ...ne\\bin\\webwallpaper32.exe    N/A      |\n",
      "+-----------------------------------------------------------------------------+\n"
     ]
    }
   ],
   "source": [
    "# Using GPU to train CNN\n",
    "!nvidia-smi"
   ]
  },
  {
   "cell_type": "code",
   "execution_count": 2,
   "metadata": {},
   "outputs": [
    {
     "name": "stderr",
     "output_type": "stream",
     "text": [
      "Using TensorFlow backend.\n"
     ]
    }
   ],
   "source": [
    "import pandas as pd\n",
    "import os\n",
    "import cv2\n",
    "import numpy as np\n",
    "\n",
    "import tensorflow as tf\n",
    "import efficientnet.tfkeras as efn\n",
    "from tensorflow.keras.models import Sequential\n",
    "from tensorflow.keras.layers import Dense, GlobalAveragePooling2D\n",
    "from tensorflow.keras.preprocessing.image import ImageDataGenerator\n",
    "from sklearn.model_selection import train_test_split\n",
    "from keras.preprocessing.image import img_to_array\n",
    "from keras.callbacks import ReduceLROnPlateau, EarlyStopping, ModelCheckpoint\n",
    "\n",
    "import matplotlib.pyplot as plt"
   ]
  },
  {
   "cell_type": "code",
   "execution_count": 3,
   "metadata": {},
   "outputs": [
    {
     "data": {
      "text/plain": [
       "'/device:GPU:0'"
      ]
     },
     "execution_count": 3,
     "metadata": {},
     "output_type": "execute_result"
    }
   ],
   "source": [
    "# Check whether using GPU\n",
    "tf.test.gpu_device_name()"
   ]
  },
  {
   "cell_type": "code",
   "execution_count": 4,
   "metadata": {},
   "outputs": [],
   "source": [
    "# Read dataset\n",
    "Train=pd.read_csv('plant-pathology-2020-fgvc7/train.csv')\n",
    "Test=pd.read_csv('plant-pathology-2020-fgvc7/test.csv')"
   ]
  },
  {
   "cell_type": "code",
   "execution_count": 5,
   "metadata": {},
   "outputs": [],
   "source": [
    "# Resizing images\n",
    "img_size=100\n",
    "Train_image=[]\n",
    "for name in Train['image_id']:\n",
    "    path='plant-pathology-2020-fgvc7/images/'+name+'.jpg'\n",
    "    img=cv2.imread(path)\n",
    "    image=cv2.resize(img,(img_size,img_size),interpolation=cv2.INTER_AREA)\n",
    "    Train_image.append(image)\n",
    "\n",
    "Test_image=[]\n",
    "for name in Test['image_id']:\n",
    "    path='plant-pathology-2020-fgvc7/images/'+name+'.jpg'\n",
    "    img=cv2.imread(path)\n",
    "    image=cv2.resize(img,(img_size,img_size),interpolation=cv2.INTER_AREA)\n",
    "    Test_image.append(image)"
   ]
  },
  {
   "cell_type": "code",
   "execution_count": 6,
   "metadata": {},
   "outputs": [
    {
     "name": "stdout",
     "output_type": "stream",
     "text": [
      "Train Shape: (1821, 100, 100, 3)\n",
      "Test Shape: (1821, 100, 100, 3)\n"
     ]
    }
   ],
   "source": [
    "# Vectorizing the channels - image to array\n",
    "X_train = np.ndarray(shape=(len(Train_image), img_size, img_size, 3),dtype = np.float32)\n",
    "i=0\n",
    "for image in Train_image:\n",
    "    X_train[i]=img_to_array(image)\n",
    "    X_train[i]=Train_image[i]\n",
    "    i=i+1\n",
    "X_train=X_train/255\n",
    "print('Train Shape: {}'.format(X_train.shape))\n",
    "\n",
    "X_test = np.ndarray(shape=(len(Test_image), img_size, img_size, 3),dtype = np.float32)\n",
    "i=0\n",
    "for image in Test_image:\n",
    "    X_test[i]=img_to_array(image)\n",
    "    X_test[i]=Test_image[i]\n",
    "    i=i+1\n",
    "    \n",
    "X_test=X_test/255\n",
    "print('Test Shape: {}'.format(X_test.shape))"
   ]
  },
  {
   "cell_type": "code",
   "execution_count": 7,
   "metadata": {},
   "outputs": [
    {
     "data": {
      "text/plain": [
       "(1821, 4)"
      ]
     },
     "execution_count": 7,
     "metadata": {},
     "output_type": "execute_result"
    }
   ],
   "source": [
    "# Deal with labels\n",
    "Y = Train.copy()\n",
    "del Y['image_id']\n",
    "Y.head()\n",
    "Y_train = np.array(Y.values)\n",
    "Y_train.shape"
   ]
  },
  {
   "cell_type": "code",
   "execution_count": 8,
   "metadata": {},
   "outputs": [],
   "source": [
    "# We split the training set into training and testing set\n",
    "train_x,test_x,train_y,test_y = train_test_split(X_train, Y_train, test_size=0.2, random_state=0)"
   ]
  },
  {
   "cell_type": "code",
   "execution_count": 9,
   "metadata": {},
   "outputs": [
    {
     "data": {
      "text/plain": [
       "((1960, 100, 100, 3), array([490, 490, 490, 490]))"
      ]
     },
     "execution_count": 9,
     "metadata": {},
     "output_type": "execute_result"
    }
   ],
   "source": [
    "# Dealing with imbalanced dataset - oversampling\n",
    "from imblearn.over_sampling import SMOTE \n",
    "\n",
    "sm = SMOTE(random_state = 0) \n",
    " \n",
    "train_x,train_y = sm.fit_resample(train_x.reshape((-1, img_size * img_size * 3)), train_y)\n",
    "train_x = train_x.reshape((-1, img_size, img_size, 3))\n",
    "train_x.shape, train_y.sum(axis=0)"
   ]
  },
  {
   "cell_type": "code",
   "execution_count": 10,
   "metadata": {},
   "outputs": [],
   "source": [
    "# Image augmentation\n",
    "data_aug = ImageDataGenerator(rotation_range=45,\n",
    "                              width_shift_range=0.2,\n",
    "                              height_shift_range=0.2,\n",
    "                              zoom_range=0.2,\n",
    "                              shear_range=0.2,\n",
    "                              rescale=1/255,\n",
    "                              brightness_range=[0.5,1.5],\n",
    "                              horizontal_flip=True,\n",
    "                              vertical_flip=True)"
   ]
  },
  {
   "cell_type": "code",
   "execution_count": 11,
   "metadata": {},
   "outputs": [
    {
     "name": "stdout",
     "output_type": "stream",
     "text": [
      "Model: \"sequential\"\n",
      "_________________________________________________________________\n",
      "Layer (type)                 Output Shape              Param #   \n",
      "=================================================================\n",
      "efficientnet-b7 (Model)      (None, 4, 4, 2560)        64097680  \n",
      "_________________________________________________________________\n",
      "global_average_pooling2d (Gl (None, 2560)              0         \n",
      "_________________________________________________________________\n",
      "dense (Dense)                (None, 4)                 10244     \n",
      "=================================================================\n",
      "Total params: 64,107,924\n",
      "Trainable params: 63,797,204\n",
      "Non-trainable params: 310,720\n",
      "_________________________________________________________________\n"
     ]
    }
   ],
   "source": [
    "# Using EfficientNet-B7 model\n",
    "base_model = efn.EfficientNetB7(input_shape=(100,100,3),weights='imagenet',include_top=False)\n",
    "model = Sequential()\n",
    "model.add(base_model)\n",
    "model.add(GlobalAveragePooling2D())\n",
    "model.add(Dense(4,activation='softmax'))\n",
    "model.compile(loss='categorical_crossentropy',\n",
    "              optimizer='adam',\n",
    "              metrics=['accuracy'])\n",
    "\n",
    "model.summary()"
   ]
  },
  {
   "cell_type": "code",
   "execution_count": 12,
   "metadata": {
    "scrolled": false
   },
   "outputs": [
    {
     "name": "stdout",
     "output_type": "stream",
     "text": [
      "WARNING:tensorflow:From <ipython-input-12-ef1d80240287>:8: Model.fit_generator (from tensorflow.python.keras.engine.training) is deprecated and will be removed in a future version.\n",
      "Instructions for updating:\n",
      "Please use Model.fit, which supports generators.\n",
      "Epoch 1/100\n",
      "61/61 [==============================] - 21s 337ms/step - loss: 1.4089 - accuracy: 0.4201 - val_loss: 2.1502 - val_accuracy: 0.4219\n",
      "Epoch 2/100\n",
      "61/61 [==============================] - 15s 251ms/step - loss: 0.8275 - accuracy: 0.6966 - val_loss: 1.3121 - val_accuracy: 0.6027\n",
      "Epoch 3/100\n",
      "61/61 [==============================] - 15s 252ms/step - loss: 0.5405 - accuracy: 0.8294 - val_loss: 1.7182 - val_accuracy: 0.6192\n",
      "Epoch 4/100\n",
      "61/61 [==============================] - 15s 253ms/step - loss: 0.4861 - accuracy: 0.8402 - val_loss: 0.3549 - val_accuracy: 0.8986\n",
      "Epoch 5/100\n",
      "61/61 [==============================] - 15s 254ms/step - loss: 0.3990 - accuracy: 0.8574 - val_loss: 0.8162 - val_accuracy: 0.8055\n",
      "Epoch 6/100\n",
      "61/61 [==============================] - 15s 251ms/step - loss: 0.3911 - accuracy: 0.8672 - val_loss: 0.3309 - val_accuracy: 0.8986\n",
      "Epoch 7/100\n",
      "61/61 [==============================] - 15s 252ms/step - loss: 0.3305 - accuracy: 0.8849 - val_loss: 0.4596 - val_accuracy: 0.8877\n",
      "Epoch 8/100\n",
      "61/61 [==============================] - 15s 253ms/step - loss: 0.3099 - accuracy: 0.8932 - val_loss: 0.2546 - val_accuracy: 0.9425\n",
      "Epoch 9/100\n",
      "61/61 [==============================] - 15s 253ms/step - loss: 0.2612 - accuracy: 0.9149 - val_loss: 0.2170 - val_accuracy: 0.9425\n",
      "Epoch 10/100\n",
      "61/61 [==============================] - 16s 258ms/step - loss: 0.2485 - accuracy: 0.9165 - val_loss: 0.2403 - val_accuracy: 0.9370\n",
      "Epoch 11/100\n",
      "61/61 [==============================] - 15s 250ms/step - loss: 0.2533 - accuracy: 0.9180 - val_loss: 0.2325 - val_accuracy: 0.9452\n",
      "Epoch 12/100\n",
      "61/61 [==============================] - 15s 252ms/step - loss: 0.2240 - accuracy: 0.9289 - val_loss: 0.5302 - val_accuracy: 0.8795\n",
      "Epoch 13/100\n",
      "61/61 [==============================] - 15s 252ms/step - loss: 0.1848 - accuracy: 0.9383 - val_loss: 0.2774 - val_accuracy: 0.9260\n",
      "Epoch 14/100\n",
      "61/61 [==============================] - 15s 253ms/step - loss: 0.2197 - accuracy: 0.9305 - val_loss: 0.2288 - val_accuracy: 0.9452\n",
      "Epoch 15/100\n",
      "61/61 [==============================] - 15s 252ms/step - loss: 0.2015 - accuracy: 0.9341 - val_loss: 0.4074 - val_accuracy: 0.8767\n",
      "Epoch 16/100\n",
      "61/61 [==============================] - 15s 253ms/step - loss: 0.1528 - accuracy: 0.9471 - val_loss: 0.3079 - val_accuracy: 0.9123\n",
      "Epoch 17/100\n",
      "61/61 [==============================] - 15s 252ms/step - loss: 0.1822 - accuracy: 0.9481 - val_loss: 0.3244 - val_accuracy: 0.9178\n",
      "Epoch 18/100\n",
      "61/61 [==============================] - 15s 253ms/step - loss: 0.1646 - accuracy: 0.9450 - val_loss: 0.3733 - val_accuracy: 0.8932\n",
      "Epoch 19/100\n",
      "61/61 [==============================] - 15s 252ms/step - loss: 0.1326 - accuracy: 0.9554 - val_loss: 0.4158 - val_accuracy: 0.9068\n",
      "Epoch 20/100\n",
      "61/61 [==============================] - 15s 253ms/step - loss: 0.1905 - accuracy: 0.9409 - val_loss: 0.3727 - val_accuracy: 0.9178\n",
      "Epoch 21/100\n",
      "61/61 [==============================] - 15s 252ms/step - loss: 0.1196 - accuracy: 0.9611 - val_loss: 0.4860 - val_accuracy: 0.9014\n",
      "Epoch 22/100\n",
      "61/61 [==============================] - 15s 253ms/step - loss: 0.1126 - accuracy: 0.9616 - val_loss: 0.3853 - val_accuracy: 0.9260\n",
      "Epoch 23/100\n",
      "61/61 [==============================] - 15s 253ms/step - loss: 0.1329 - accuracy: 0.9585 - val_loss: 0.2937 - val_accuracy: 0.9260\n",
      "Epoch 24/100\n",
      "61/61 [==============================] - 15s 253ms/step - loss: 0.1396 - accuracy: 0.9533 - val_loss: 0.2231 - val_accuracy: 0.9342\n",
      "Epoch 25/100\n",
      "61/61 [==============================] - 16s 254ms/step - loss: 0.1607 - accuracy: 0.9512 - val_loss: 0.2701 - val_accuracy: 0.9260\n",
      "Epoch 26/100\n",
      "61/61 [==============================] - 16s 255ms/step - loss: 0.1320 - accuracy: 0.9554 - val_loss: 0.2442 - val_accuracy: 0.9397\n",
      "Epoch 27/100\n",
      "61/61 [==============================] - 15s 254ms/step - loss: 0.1398 - accuracy: 0.9538 - val_loss: 0.2699 - val_accuracy: 0.9288\n",
      "Epoch 28/100\n",
      "61/61 [==============================] - 16s 254ms/step - loss: 0.1264 - accuracy: 0.9544 - val_loss: 0.3069 - val_accuracy: 0.9425\n",
      "Epoch 29/100\n",
      "61/61 [==============================] - 15s 253ms/step - loss: 0.1548 - accuracy: 0.9487 - val_loss: 0.2591 - val_accuracy: 0.9479\n",
      "Epoch 30/100\n",
      "61/61 [==============================] - 15s 254ms/step - loss: 0.1653 - accuracy: 0.9435 - val_loss: 0.2886 - val_accuracy: 0.9425\n",
      "Epoch 31/100\n",
      "61/61 [==============================] - 15s 253ms/step - loss: 0.1708 - accuracy: 0.9419 - val_loss: 0.4947 - val_accuracy: 0.9096\n",
      "Epoch 32/100\n",
      "61/61 [==============================] - 15s 253ms/step - loss: 0.1910 - accuracy: 0.9393 - val_loss: 0.4864 - val_accuracy: 0.9233\n",
      "Epoch 33/100\n",
      "61/61 [==============================] - 15s 254ms/step - loss: 0.1417 - accuracy: 0.9559 - val_loss: 0.3460 - val_accuracy: 0.9260\n",
      "Epoch 34/100\n",
      "61/61 [==============================] - 15s 254ms/step - loss: 0.1003 - accuracy: 0.9699 - val_loss: 0.3382 - val_accuracy: 0.9260\n",
      "Epoch 35/100\n",
      "61/61 [==============================] - 15s 252ms/step - loss: 0.1996 - accuracy: 0.9393 - val_loss: 0.4621 - val_accuracy: 0.8466\n",
      "Epoch 36/100\n",
      "61/61 [==============================] - 15s 252ms/step - loss: 0.1223 - accuracy: 0.9621 - val_loss: 0.3390 - val_accuracy: 0.9096\n",
      "Epoch 37/100\n",
      "61/61 [==============================] - 15s 252ms/step - loss: 0.0902 - accuracy: 0.9720 - val_loss: 0.3809 - val_accuracy: 0.9260\n",
      "Epoch 38/100\n",
      "61/61 [==============================] - 15s 252ms/step - loss: 0.1053 - accuracy: 0.9647 - val_loss: 0.3944 - val_accuracy: 0.9123\n",
      "Epoch 39/100\n",
      "61/61 [==============================] - 15s 254ms/step - loss: 0.1083 - accuracy: 0.9642 - val_loss: 0.5877 - val_accuracy: 0.8932\n",
      "Epoch 40/100\n",
      "61/61 [==============================] - 15s 253ms/step - loss: 0.1290 - accuracy: 0.9601 - val_loss: 0.3245 - val_accuracy: 0.9233\n",
      "Epoch 41/100\n",
      "61/61 [==============================] - 15s 254ms/step - loss: 0.0844 - accuracy: 0.9725 - val_loss: 0.3569 - val_accuracy: 0.9068\n",
      "Epoch 42/100\n",
      "61/61 [==============================] - 15s 253ms/step - loss: 0.0966 - accuracy: 0.9704 - val_loss: 0.4578 - val_accuracy: 0.9096\n",
      "Epoch 43/100\n",
      "61/61 [==============================] - 15s 253ms/step - loss: 0.0906 - accuracy: 0.9751 - val_loss: 0.3635 - val_accuracy: 0.9342\n",
      "Epoch 44/100\n",
      "61/61 [==============================] - 15s 254ms/step - loss: 0.0795 - accuracy: 0.9756 - val_loss: 0.3229 - val_accuracy: 0.9233\n",
      "Epoch 45/100\n",
      "61/61 [==============================] - 15s 253ms/step - loss: 0.1036 - accuracy: 0.9673 - val_loss: 0.3000 - val_accuracy: 0.9288\n",
      "Epoch 46/100\n",
      "61/61 [==============================] - 16s 254ms/step - loss: 0.0895 - accuracy: 0.9704 - val_loss: 0.1963 - val_accuracy: 0.9452\n",
      "Epoch 47/100\n",
      "61/61 [==============================] - 15s 254ms/step - loss: 0.0847 - accuracy: 0.9751 - val_loss: 0.2547 - val_accuracy: 0.9452\n",
      "Epoch 48/100\n",
      "61/61 [==============================] - 15s 254ms/step - loss: 0.1484 - accuracy: 0.9554 - val_loss: 0.5431 - val_accuracy: 0.8822\n",
      "Epoch 49/100\n",
      "61/61 [==============================] - 15s 254ms/step - loss: 0.1946 - accuracy: 0.9305 - val_loss: 0.5381 - val_accuracy: 0.9041\n",
      "Epoch 50/100\n",
      "61/61 [==============================] - 15s 253ms/step - loss: 0.1070 - accuracy: 0.9658 - val_loss: 0.3542 - val_accuracy: 0.9370\n",
      "Epoch 51/100\n",
      "61/61 [==============================] - 15s 254ms/step - loss: 0.1144 - accuracy: 0.9616 - val_loss: 0.2550 - val_accuracy: 0.9425\n",
      "Epoch 52/100\n",
      "61/61 [==============================] - 15s 254ms/step - loss: 0.0993 - accuracy: 0.9668 - val_loss: 0.2777 - val_accuracy: 0.9260\n",
      "Epoch 53/100\n",
      "61/61 [==============================] - 15s 253ms/step - loss: 0.1770 - accuracy: 0.9445 - val_loss: 0.2015 - val_accuracy: 0.9562\n",
      "Epoch 54/100\n",
      "61/61 [==============================] - 15s 253ms/step - loss: 0.1315 - accuracy: 0.9538 - val_loss: 0.2908 - val_accuracy: 0.9233\n",
      "Epoch 55/100\n",
      "61/61 [==============================] - 15s 253ms/step - loss: 0.1186 - accuracy: 0.9627 - val_loss: 0.3555 - val_accuracy: 0.9123\n"
     ]
    },
    {
     "name": "stdout",
     "output_type": "stream",
     "text": [
      "Epoch 56/100\n",
      "61/61 [==============================] - 15s 252ms/step - loss: 0.1051 - accuracy: 0.9647 - val_loss: 0.4756 - val_accuracy: 0.8849\n",
      "Epoch 57/100\n",
      "61/61 [==============================] - 15s 253ms/step - loss: 0.1003 - accuracy: 0.9673 - val_loss: 0.3084 - val_accuracy: 0.9397\n",
      "Epoch 58/100\n",
      "61/61 [==============================] - 15s 254ms/step - loss: 0.0679 - accuracy: 0.9777 - val_loss: 0.2604 - val_accuracy: 0.9342\n",
      "Epoch 59/100\n",
      "61/61 [==============================] - 15s 252ms/step - loss: 0.0906 - accuracy: 0.9694 - val_loss: 0.2505 - val_accuracy: 0.9315\n",
      "Epoch 60/100\n",
      "61/61 [==============================] - 15s 251ms/step - loss: 0.0896 - accuracy: 0.9730 - val_loss: 0.3289 - val_accuracy: 0.9452\n",
      "Epoch 61/100\n",
      "61/61 [==============================] - 15s 253ms/step - loss: 0.0779 - accuracy: 0.9767 - val_loss: 0.4184 - val_accuracy: 0.9315\n",
      "Epoch 62/100\n",
      "61/61 [==============================] - 15s 252ms/step - loss: 0.0906 - accuracy: 0.9725 - val_loss: 0.3306 - val_accuracy: 0.9425\n",
      "Epoch 63/100\n",
      "61/61 [==============================] - 15s 253ms/step - loss: 0.0994 - accuracy: 0.9694 - val_loss: 0.2813 - val_accuracy: 0.9534\n",
      "Epoch 64/100\n",
      "61/61 [==============================] - 15s 254ms/step - loss: 0.0602 - accuracy: 0.9808 - val_loss: 0.2903 - val_accuracy: 0.9315\n",
      "Epoch 65/100\n",
      "61/61 [==============================] - 15s 253ms/step - loss: 0.0891 - accuracy: 0.9741 - val_loss: 0.4335 - val_accuracy: 0.9178\n",
      "Epoch 66/100\n",
      "61/61 [==============================] - 15s 253ms/step - loss: 0.0718 - accuracy: 0.9767 - val_loss: 0.3817 - val_accuracy: 0.9534\n",
      "Epoch 67/100\n",
      "61/61 [==============================] - 15s 253ms/step - loss: 0.0792 - accuracy: 0.9741 - val_loss: 0.3517 - val_accuracy: 0.9397\n",
      "Epoch 68/100\n",
      "61/61 [==============================] - 15s 254ms/step - loss: 0.0507 - accuracy: 0.9798 - val_loss: 0.2499 - val_accuracy: 0.9397\n",
      "Epoch 69/100\n",
      "61/61 [==============================] - 15s 252ms/step - loss: 0.0653 - accuracy: 0.9798 - val_loss: 0.3880 - val_accuracy: 0.9370\n",
      "Epoch 70/100\n",
      "61/61 [==============================] - 15s 253ms/step - loss: 0.0604 - accuracy: 0.9803 - val_loss: 0.3963 - val_accuracy: 0.9233\n",
      "Epoch 71/100\n",
      "61/61 [==============================] - 15s 253ms/step - loss: 0.0427 - accuracy: 0.9844 - val_loss: 0.3552 - val_accuracy: 0.9452\n",
      "Epoch 72/100\n",
      "61/61 [==============================] - 15s 253ms/step - loss: 0.0461 - accuracy: 0.9860 - val_loss: 0.3479 - val_accuracy: 0.9397\n",
      "Epoch 73/100\n",
      "61/61 [==============================] - 15s 254ms/step - loss: 0.0593 - accuracy: 0.9813 - val_loss: 0.2681 - val_accuracy: 0.9370\n",
      "Epoch 74/100\n",
      "61/61 [==============================] - 15s 252ms/step - loss: 0.0722 - accuracy: 0.9793 - val_loss: 0.3658 - val_accuracy: 0.9397\n",
      "Epoch 75/100\n",
      "61/61 [==============================] - 15s 254ms/step - loss: 0.0568 - accuracy: 0.9798 - val_loss: 0.3197 - val_accuracy: 0.9370\n",
      "Epoch 76/100\n",
      "61/61 [==============================] - 15s 252ms/step - loss: 0.0789 - accuracy: 0.9751 - val_loss: 0.3949 - val_accuracy: 0.9288\n",
      "Epoch 77/100\n",
      "61/61 [==============================] - 15s 253ms/step - loss: 0.0432 - accuracy: 0.9855 - val_loss: 0.2628 - val_accuracy: 0.9479\n",
      "Epoch 78/100\n",
      "61/61 [==============================] - 15s 253ms/step - loss: 0.0541 - accuracy: 0.9834 - val_loss: 0.4449 - val_accuracy: 0.9205\n",
      "Epoch 79/100\n",
      "61/61 [==============================] - 15s 252ms/step - loss: 0.0877 - accuracy: 0.9689 - val_loss: 0.5363 - val_accuracy: 0.8904\n",
      "Epoch 80/100\n",
      "61/61 [==============================] - 15s 253ms/step - loss: 0.2101 - accuracy: 0.9310 - val_loss: 1.4651 - val_accuracy: 0.8027\n",
      "Epoch 81/100\n",
      "61/61 [==============================] - 15s 253ms/step - loss: 0.1090 - accuracy: 0.9642 - val_loss: 0.4774 - val_accuracy: 0.9260\n",
      "Epoch 82/100\n",
      "61/61 [==============================] - 15s 253ms/step - loss: 0.1130 - accuracy: 0.9627 - val_loss: 0.4781 - val_accuracy: 0.9068\n",
      "Epoch 83/100\n",
      "61/61 [==============================] - 15s 252ms/step - loss: 0.1005 - accuracy: 0.9720 - val_loss: 0.5772 - val_accuracy: 0.8904\n",
      "Epoch 84/100\n",
      "61/61 [==============================] - 17s 273ms/step - loss: 0.0586 - accuracy: 0.9798 - val_loss: 0.3203 - val_accuracy: 0.9342\n",
      "Epoch 85/100\n",
      "61/61 [==============================] - 16s 261ms/step - loss: 0.1029 - accuracy: 0.9642 - val_loss: 0.3428 - val_accuracy: 0.9425\n",
      "Epoch 86/100\n",
      "61/61 [==============================] - 16s 259ms/step - loss: 0.0714 - accuracy: 0.9746 - val_loss: 0.3229 - val_accuracy: 0.9342\n",
      "Epoch 87/100\n",
      "61/61 [==============================] - 16s 257ms/step - loss: 0.0524 - accuracy: 0.9803 - val_loss: 0.2889 - val_accuracy: 0.9370\n",
      "Epoch 88/100\n",
      "61/61 [==============================] - 17s 271ms/step - loss: 0.0710 - accuracy: 0.9756 - val_loss: 0.2930 - val_accuracy: 0.9233\n",
      "Epoch 89/100\n",
      "61/61 [==============================] - 16s 267ms/step - loss: 0.0514 - accuracy: 0.9860 - val_loss: 0.3448 - val_accuracy: 0.9452\n",
      "Epoch 90/100\n",
      "61/61 [==============================] - 16s 260ms/step - loss: 0.0389 - accuracy: 0.9881 - val_loss: 0.3300 - val_accuracy: 0.9315\n",
      "Epoch 91/100\n",
      "61/61 [==============================] - 16s 256ms/step - loss: 0.0609 - accuracy: 0.9829 - val_loss: 0.4153 - val_accuracy: 0.9178\n",
      "Epoch 92/100\n",
      "61/61 [==============================] - 16s 269ms/step - loss: 0.0747 - accuracy: 0.9767 - val_loss: 0.2942 - val_accuracy: 0.9315\n",
      "Epoch 93/100\n",
      "61/61 [==============================] - 16s 269ms/step - loss: 0.1244 - accuracy: 0.9652 - val_loss: 0.3951 - val_accuracy: 0.9178\n",
      "Epoch 94/100\n",
      "61/61 [==============================] - 17s 273ms/step - loss: 0.0514 - accuracy: 0.9844 - val_loss: 0.3255 - val_accuracy: 0.9397\n",
      "Epoch 95/100\n",
      "61/61 [==============================] - 17s 272ms/step - loss: 0.0857 - accuracy: 0.9761 - val_loss: 0.3390 - val_accuracy: 0.9425\n",
      "Epoch 96/100\n",
      "61/61 [==============================] - 16s 266ms/step - loss: 0.0704 - accuracy: 0.9798 - val_loss: 0.2636 - val_accuracy: 0.9507\n",
      "Epoch 97/100\n",
      "61/61 [==============================] - 16s 268ms/step - loss: 0.0595 - accuracy: 0.9803 - val_loss: 0.3877 - val_accuracy: 0.9014\n",
      "Epoch 98/100\n",
      "61/61 [==============================] - 16s 269ms/step - loss: 0.0616 - accuracy: 0.9844 - val_loss: 0.2495 - val_accuracy: 0.9370\n",
      "Epoch 99/100\n",
      "61/61 [==============================] - 16s 268ms/step - loss: 0.0575 - accuracy: 0.9850 - val_loss: 0.3306 - val_accuracy: 0.9425\n",
      "Epoch 100/100\n",
      "61/61 [==============================] - 16s 269ms/step - loss: 0.0437 - accuracy: 0.9886 - val_loss: 0.2416 - val_accuracy: 0.9534\n"
     ]
    },
    {
     "data": {
      "text/plain": [
       "<tensorflow.python.keras.callbacks.History at 0x22752dd6cc8>"
      ]
     },
     "execution_count": 12,
     "metadata": {},
     "output_type": "execute_result"
    }
   ],
   "source": [
    "# Start to train model\n",
    "model.fit_generator(data_aug.flow(train_x,train_y,batch_size=32),\n",
    "                    steps_per_epoch=train_x.shape[0]//32,\n",
    "                    epochs=100,\n",
    "                    verbose=1,\n",
    "                    validation_data=(test_x,test_y),\n",
    "                    use_multiprocessing=False,\n",
    "                    workers=1)"
   ]
  },
  {
   "cell_type": "code",
   "execution_count": 13,
   "metadata": {},
   "outputs": [
    {
     "data": {
      "text/plain": [
       "<matplotlib.legend.Legend at 0x2279075f948>"
      ]
     },
     "execution_count": 13,
     "metadata": {},
     "output_type": "execute_result"
    },
    {
     "data": {
      "image/png": "[encoded data removed]",
      "text/plain": [
       "<Figure size 432x288 with 1 Axes>"
      ]
     },
     "metadata": {
      "needs_background": "light"
     },
     "output_type": "display_data"
    }
   ],
   "source": [
    "# Plot loss\n",
    "history = model.history.history\n",
    "offset = 1\n",
    "epochs = range(offset, len(history['loss']))\n",
    "plt.xlabel('epochs')\n",
    "plt.ylabel('loss')\n",
    "plt.plot(epochs, history['loss'][offset:], label='train')\n",
    "plt.plot(epochs, history['val_loss'][offset:], label='test')\n",
    "plt.legend()"
   ]
  },
  {
   "cell_type": "code",
   "execution_count": 14,
   "metadata": {},
   "outputs": [
    {
     "data": {
      "text/plain": [
       "<matplotlib.legend.Legend at 0x22790620808>"
      ]
     },
     "execution_count": 14,
     "metadata": {},
     "output_type": "execute_result"
    },
    {
     "data": {
      "image/png": "[encoded data removed]",
      "text/plain": [
       "<Figure size 432x288 with 1 Axes>"
      ]
     },
     "metadata": {
      "needs_background": "light"
     },
     "output_type": "display_data"
    }
   ],
   "source": [
    "# plot accuracy\n",
    "plt.xlabel('epochs')\n",
    "plt.ylabel('accuracy')\n",
    "plt.plot(history[f'accuracy'], label='train')\n",
    "plt.plot(history[f'val_accuracy'], label='test')\n",
    "plt.legend()"
   ]
  },
  {
   "cell_type": "code",
   "execution_count": 15,
   "metadata": {},
   "outputs": [
    {
     "data": {
      "text/plain": [
       "(1821, 0)"
      ]
     },
     "execution_count": 15,
     "metadata": {},
     "output_type": "execute_result"
    }
   ],
   "source": [
    "Y1 = Test.copy()\n",
    "del Y1['image_id']\n",
    "Y1.head()\n",
    "Y_test = np.array(Y1.values)\n",
    "Y_test.shape"
   ]
  },
  {
   "cell_type": "code",
   "execution_count": 16,
   "metadata": {},
   "outputs": [],
   "source": [
    "# predict on the testing set\n",
    "predict_prob = model.predict(X_test)\n",
    "df_predict_prob = pd.DataFrame(predict_prob, columns=['healthy','multiple_diseases','rust','scab'])"
   ]
  },
  {
   "cell_type": "code",
   "execution_count": 17,
   "metadata": {},
   "outputs": [],
   "source": [
    "# output csv files for submission\n",
    "frame = [Test['image_id'], df_predict_prob]\n",
    "df_submission = pd.concat(frame, axis=1)\n",
    "df_submission.to_csv(r'submisson.csv', index=False)"
   ]
  }
 ],
 "metadata": {
  "kernelspec": {
   "display_name": "Python 3",
   "language": "python",
   "name": "python3"
  },
  "language_info": {
   "codemirror_mode": {
    "name": "ipython",
    "version": 3
   },
   "file_extension": ".py",
   "mimetype": "text/x-python",
   "name": "python",
   "nbconvert_exporter": "python",
   "pygments_lexer": "ipython3",
   "version": "3.7.7"
  }
 },
 "nbformat": 4,
 "nbformat_minor": 4
}
