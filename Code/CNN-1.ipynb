{
 "cells": [
  {
   "cell_type": "markdown",
   "metadata": {},
   "source": [
    "### CNN - First Try"
   ]
  },
  {
   "cell_type": "markdown",
   "metadata": {},
   "source": [
    "This is the first CNN model we try. You can see other CNN models in other code files"
   ]
  },
  {
   "cell_type": "code",
   "execution_count": 1,
   "metadata": {},
   "outputs": [
    {
     "name": "stdout",
     "output_type": "stream",
     "text": [
      "Tue Jun 02 22:19:38 2020       \n",
      "+-----------------------------------------------------------------------------+\n",
      "| NVIDIA-SMI 445.87       Driver Version: 445.87       CUDA Version: 11.0     |\n",
      "|-------------------------------+----------------------+----------------------+\n",
      "| GPU  Name            TCC/WDDM | Bus-Id        Disp.A | Volatile Uncorr. ECC |\n",
      "| Fan  Temp  Perf  Pwr:Usage/Cap|         Memory-Usage | GPU-Util  Compute M. |\n",
      "|===============================+======================+======================|\n",
      "|   0  GeForce RTX 208... WDDM  | 00000000:01:00.0  On |                  N/A |\n",
      "| 52%   57C    P0    65W / 260W |    674MiB / 11264MiB |      1%      Default |\n",
      "+-------------------------------+----------------------+----------------------+\n",
      "                                                                               \n",
      "+-----------------------------------------------------------------------------+\n",
      "| Processes:                                                                  |\n",
      "|  GPU                  PID   Type   Process name                  GPU Memory |\n",
      "|                                                                  Usage      |\n",
      "|=============================================================================|\n",
      "|    0                 5104    C+G   ...stic_Light\\LEDKeeper2.exe    N/A      |\n",
      "|    0                 6076    C+G   C:\\Windows\\explorer.exe         N/A      |\n",
      "|    0                10372    C+G   ...artMenuExperienceHost.exe    N/A      |\n",
      "|    0                10744    C+G   ...es.TextInput.InputApp.exe    N/A      |\n",
      "|    0                11320    C+G   ...w5n1h2txyewy\\SearchUI.exe    N/A      |\n",
      "|    0                15060    C+G   ...perience\\NVIDIA Share.exe    N/A      |\n",
      "|    0                15608    C+G   D:\\WeChat\\WeChatWeb.exe         N/A      |\n",
      "|    0                16996    C+G   ...slack\\app-4.6.0\\slack.exe    N/A      |\n",
      "|    0                17512    C+G   D:\\WeChat\\WeChatApp.exe         N/A      |\n",
      "|    0                34520    C+G   ...y\\ShellExperienceHost.exe    N/A      |\n",
      "|    0                93596    C+G   ...me\\Application\\chrome.exe    N/A      |\n",
      "|    0                94732    C+G   ...Roaming\\Zoom\\bin\\Zoom.exe    N/A      |\n",
      "|    0               100392    C+G   Insufficient Permissions        N/A      |\n",
      "|    0               102260    C+G   ...ne\\bin\\webwallpaper32.exe    N/A      |\n",
      "+-----------------------------------------------------------------------------+\n"
     ]
    }
   ],
   "source": [
    "# Using GPU to train CNN\n",
    "!nvidia-smi"
   ]
  },
  {
   "cell_type": "code",
   "execution_count": 2,
   "metadata": {},
   "outputs": [
    {
     "name": "stderr",
     "output_type": "stream",
     "text": [
      "Using TensorFlow backend.\n"
     ]
    }
   ],
   "source": [
    "import pandas as pd\n",
    "import os\n",
    "import cv2\n",
    "import numpy as np\n",
    "import matplotlib.pyplot as plt\n",
    "import tensorflow as tf\n",
    "from tensorflow.keras.models import Sequential\n",
    "from tensorflow.keras.layers import Dense, GlobalAveragePooling2D\n",
    "from tensorflow.keras.preprocessing.image import ImageDataGenerator\n",
    "from sklearn.model_selection import train_test_split\n",
    "from keras.preprocessing.image import img_to_array\n",
    "from keras.models import Model, Sequential, load_model, Input\n",
    "from keras.layers import Dense, Conv2D, MaxPooling2D, Flatten, Dropout, BatchNormalization, LeakyReLU\n",
    "from keras.callbacks import ReduceLROnPlateau, EarlyStopping, ModelCheckpoint\n",
    "from keras.utils import plot_model\n",
    "from keras.regularizers import l2\n",
    "from keras.utils import np_utils\n",
    "from keras.models import Sequential\n",
    "from keras.layers import Convolution2D,Dense,MaxPool2D,Activation,Dropout,Flatten\n",
    "from keras.optimizers import Adam\n",
    "from keras.models import Model\n",
    "import keras\n",
    "from keras import optimizers"
   ]
  },
  {
   "cell_type": "code",
   "execution_count": 3,
   "metadata": {},
   "outputs": [
    {
     "data": {
      "text/plain": [
       "'/device:GPU:0'"
      ]
     },
     "execution_count": 3,
     "metadata": {},
     "output_type": "execute_result"
    }
   ],
   "source": [
    "# Check whether using GPU\n",
    "tf.test.gpu_device_name()"
   ]
  },
  {
   "cell_type": "markdown",
   "metadata": {},
   "source": [
    "### Read and preprocessing labels & Images"
   ]
  },
  {
   "cell_type": "code",
   "execution_count": 4,
   "metadata": {},
   "outputs": [],
   "source": [
    "Train=pd.read_csv('plant-pathology-2020-fgvc7/train.csv')\n",
    "Test=pd.read_csv('plant-pathology-2020-fgvc7/test.csv')"
   ]
  },
  {
   "cell_type": "code",
   "execution_count": 5,
   "metadata": {},
   "outputs": [],
   "source": [
    "# Resizing images\n",
    "img_size=100\n",
    "Train_image=[]\n",
    "for name in Train['image_id']:\n",
    "    path='plant-pathology-2020-fgvc7/images/'+name+'.jpg'\n",
    "    img=cv2.imread(path)\n",
    "    image=cv2.resize(img,(img_size,img_size),interpolation=cv2.INTER_AREA)\n",
    "    Train_image.append(image)\n",
    "\n",
    "Test_image=[]\n",
    "for name in Test['image_id']:\n",
    "    path='plant-pathology-2020-fgvc7/images/'+name+'.jpg'\n",
    "    img=cv2.imread(path)\n",
    "    image=cv2.resize(img,(img_size,img_size),interpolation=cv2.INTER_AREA)\n",
    "    Test_image.append(image)"
   ]
  },
  {
   "cell_type": "code",
   "execution_count": 6,
   "metadata": {},
   "outputs": [
    {
     "name": "stdout",
     "output_type": "stream",
     "text": [
      "Train Shape: (1821, 100, 100, 3)\n",
      "Test Shape: (1821, 100, 100, 3)\n"
     ]
    }
   ],
   "source": [
    "# Vectorizing the channels - image to array\n",
    "X_train = np.ndarray(shape=(len(Train_image), img_size, img_size, 3),dtype = np.float32)\n",
    "i=0\n",
    "for image in Train_image:\n",
    "    X_train[i]=img_to_array(image)\n",
    "    X_train[i]=Train_image[i]\n",
    "    i=i+1\n",
    "X_train=X_train/255\n",
    "print('Train Shape: {}'.format(X_train.shape))\n",
    "\n",
    "X_test = np.ndarray(shape=(len(Test_image), img_size, img_size, 3),dtype = np.float32)\n",
    "i=0\n",
    "for image in Test_image:\n",
    "    X_test[i]=img_to_array(image)\n",
    "    X_test[i]=Test_image[i]\n",
    "    i=i+1\n",
    "    \n",
    "X_test=X_test/255\n",
    "print('Test Shape: {}'.format(X_test.shape))"
   ]
  },
  {
   "cell_type": "code",
   "execution_count": 7,
   "metadata": {},
   "outputs": [
    {
     "data": {
      "text/plain": [
       "(1821, 4)"
      ]
     },
     "execution_count": 7,
     "metadata": {},
     "output_type": "execute_result"
    }
   ],
   "source": [
    "# Deal with labels\n",
    "Y = Train.copy()\n",
    "del Y['image_id']\n",
    "Y.head()\n",
    "Y_train = np.array(Y.values)\n",
    "Y_train.shape"
   ]
  },
  {
   "cell_type": "code",
   "execution_count": 8,
   "metadata": {},
   "outputs": [],
   "source": [
    "# We split the training set into training and testing set\n",
    "train_x,test_x,train_y,test_y = train_test_split(X_train, Y_train, test_size=0.2, random_state=0)"
   ]
  },
  {
   "cell_type": "code",
   "execution_count": 9,
   "metadata": {},
   "outputs": [
    {
     "data": {
      "text/plain": [
       "((1960, 100, 100, 3), array([490, 490, 490, 490]))"
      ]
     },
     "execution_count": 9,
     "metadata": {},
     "output_type": "execute_result"
    }
   ],
   "source": [
    "# Dealing with imbalanced dataset - oversampling\n",
    "from imblearn.over_sampling import SMOTE \n",
    "\n",
    "sm = SMOTE(random_state = 0) \n",
    " \n",
    "train_x,train_y = sm.fit_resample(train_x.reshape((-1, img_size * img_size * 3)), train_y)\n",
    "train_x = train_x.reshape((-1, img_size, img_size, 3))\n",
    "train_x.shape, train_y.sum(axis=0)"
   ]
  },
  {
   "cell_type": "code",
   "execution_count": 11,
   "metadata": {},
   "outputs": [],
   "source": [
    "# Set early stopping and dynamic learning rates\n",
    "LR_reduce=ReduceLROnPlateau(monitor='val_accuracy',\n",
    "                            factor=0.5,\n",
    "                            patience=6,\n",
    "                            min_lr=0.00001,\n",
    "                            verbose=1)\n",
    "\n",
    "ES_monitor=EarlyStopping(monitor='val_loss',\n",
    "                          patience=20)"
   ]
  },
  {
   "cell_type": "code",
   "execution_count": 12,
   "metadata": {},
   "outputs": [
    {
     "name": "stdout",
     "output_type": "stream",
     "text": [
      "Model: \"sequential_1\"\n",
      "_________________________________________________________________\n",
      "Layer (type)                 Output Shape              Param #   \n",
      "=================================================================\n",
      "conv2d_1 (Conv2D)            (None, 96, 96, 32)        2432      \n",
      "_________________________________________________________________\n",
      "batch_normalization_1 (Batch (None, 96, 96, 32)        96        \n",
      "_________________________________________________________________\n",
      "conv2d_2 (Conv2D)            (None, 92, 92, 128)       102528    \n",
      "_________________________________________________________________\n",
      "batch_normalization_2 (Batch (None, 92, 92, 128)       384       \n",
      "_________________________________________________________________\n",
      "max_pooling2d_1 (MaxPooling2 (None, 46, 46, 128)       0         \n",
      "_________________________________________________________________\n",
      "dropout_1 (Dropout)          (None, 46, 46, 128)       0         \n",
      "_________________________________________________________________\n",
      "flatten_1 (Flatten)          (None, 270848)            0         \n",
      "_________________________________________________________________\n",
      "dense_1 (Dense)              (None, 100)               27084900  \n",
      "_________________________________________________________________\n",
      "batch_normalization_3 (Batch (None, 100)               300       \n",
      "_________________________________________________________________\n",
      "dropout_2 (Dropout)          (None, 100)               0         \n",
      "_________________________________________________________________\n",
      "dense_2 (Dense)              (None, 50)                5050      \n",
      "_________________________________________________________________\n",
      "batch_normalization_4 (Batch (None, 50)                150       \n",
      "_________________________________________________________________\n",
      "dropout_3 (Dropout)          (None, 50)                0         \n",
      "_________________________________________________________________\n",
      "dense_3 (Dense)              (None, 4)                 204       \n",
      "=================================================================\n",
      "Total params: 27,196,044\n",
      "Trainable params: 27,195,424\n",
      "Non-trainable params: 620\n",
      "_________________________________________________________________\n"
     ]
    }
   ],
   "source": [
    "# CNN model\n",
    "reg = .0005\n",
    "\n",
    "model = keras.Sequential()\n",
    "\n",
    "model.add(keras.layers.Conv2D(32, kernel_size=(5,5),activation='relu', input_shape=(img_size, img_size, 3), \n",
    "                                 kernel_regularizer=tf.keras.regularizers.l2(reg)))\n",
    "model.add(keras.layers.BatchNormalization(axis=-1,center=True,scale=False))\n",
    "model.add(keras.layers.Conv2D(128, kernel_size=(5,5),activation='relu', kernel_regularizer=tf.keras.regularizers.l2(reg)))\n",
    "model.add(keras.layers.BatchNormalization(axis=-1,center=True,scale=False))\n",
    "model.add(keras.layers.MaxPooling2D(pool_size=(2,2), padding='SAME'))\n",
    "model.add(keras.layers.Dropout(.5))\n",
    "\n",
    "model.add(keras.layers.Flatten())\n",
    "model.add(keras.layers.Dense(100,activation='relu'))\n",
    "model.add(keras.layers.BatchNormalization(axis=-1,center=True,scale=False))\n",
    "model.add(keras.layers.Dropout(.2))\n",
    "model.add(keras.layers.Dense(50,activation='relu'))\n",
    "model.add(keras.layers.BatchNormalization(axis=-1,center=True,scale=False))\n",
    "model.add(keras.layers.Dropout(.2))\n",
    "model.add(keras.layers.Dense(4,activation='softmax'))\n",
    "model.compile(optimizer='adam', loss = 'categorical_crossentropy', metrics=['accuracy'])\n",
    "\n",
    "model.summary()"
   ]
  },
  {
   "cell_type": "code",
   "execution_count": 13,
   "metadata": {},
   "outputs": [],
   "source": [
    "# Image augmentation\n",
    "data_aug = ImageDataGenerator(rotation_range=45,\n",
    "                              width_shift_range=0.2,\n",
    "                              height_shift_range=0.2,\n",
    "                              zoom_range=0.2,\n",
    "                              shear_range=0.2,\n",
    "                              rescale=1/255,\n",
    "                              brightness_range=[0.5,1.5],\n",
    "                              horizontal_flip=True,\n",
    "                              vertical_flip=True)"
   ]
  },
  {
   "cell_type": "code",
   "execution_count": 14,
   "metadata": {},
   "outputs": [
    {
     "name": "stdout",
     "output_type": "stream",
     "text": [
      "Epoch 1/200\n",
      "61/61 [==============================] - 5s 87ms/step - loss: 1.7151 - accuracy: 0.3107 - val_loss: 1.7113 - val_accuracy: 0.0438\n",
      "Epoch 2/200\n",
      "61/61 [==============================] - 4s 66ms/step - loss: 1.5010 - accuracy: 0.3610 - val_loss: 1.9827 - val_accuracy: 0.0521\n",
      "Epoch 3/200\n",
      "61/61 [==============================] - 4s 65ms/step - loss: 1.4792 - accuracy: 0.3543 - val_loss: 2.0546 - val_accuracy: 0.0438\n",
      "Epoch 4/200\n",
      "61/61 [==============================] - 4s 65ms/step - loss: 1.4301 - accuracy: 0.3729 - val_loss: 2.8543 - val_accuracy: 0.0438\n",
      "Epoch 5/200\n",
      "61/61 [==============================] - 4s 65ms/step - loss: 1.4107 - accuracy: 0.3610 - val_loss: 2.0671 - val_accuracy: 0.1151\n",
      "Epoch 6/200\n",
      "61/61 [==============================] - 4s 65ms/step - loss: 1.3339 - accuracy: 0.4196 - val_loss: 1.5661 - val_accuracy: 0.1753\n",
      "Epoch 7/200\n",
      "61/61 [==============================] - 4s 65ms/step - loss: 1.3516 - accuracy: 0.4072 - val_loss: 1.6645 - val_accuracy: 0.1863\n",
      "Epoch 8/200\n",
      "61/61 [==============================] - 4s 65ms/step - loss: 1.3115 - accuracy: 0.4232 - val_loss: 2.0330 - val_accuracy: 0.0932\n",
      "Epoch 9/200\n",
      "61/61 [==============================] - 4s 64ms/step - loss: 1.3164 - accuracy: 0.4201 - val_loss: 1.2229 - val_accuracy: 0.4164\n",
      "Epoch 10/200\n",
      "61/61 [==============================] - 4s 63ms/step - loss: 1.2719 - accuracy: 0.4466 - val_loss: 1.3168 - val_accuracy: 0.3315\n",
      "Epoch 11/200\n",
      "61/61 [==============================] - 4s 64ms/step - loss: 1.3099 - accuracy: 0.4196 - val_loss: 1.2414 - val_accuracy: 0.4274\n",
      "Epoch 12/200\n",
      "61/61 [==============================] - 4s 63ms/step - loss: 1.2862 - accuracy: 0.4216 - val_loss: 1.2260 - val_accuracy: 0.4192\n",
      "Epoch 13/200\n",
      "61/61 [==============================] - 4s 62ms/step - loss: 1.2654 - accuracy: 0.4354 - val_loss: 1.4901 - val_accuracy: 0.3589\n",
      "Epoch 14/200\n",
      "61/61 [==============================] - 4s 64ms/step - loss: 1.2501 - accuracy: 0.4492 - val_loss: 1.6060 - val_accuracy: 0.2740\n",
      "Epoch 15/200\n",
      "61/61 [==============================] - 4s 64ms/step - loss: 1.2293 - accuracy: 0.4518 - val_loss: 1.2634 - val_accuracy: 0.4027\n",
      "Epoch 16/200\n",
      "61/61 [==============================] - 4s 63ms/step - loss: 1.2331 - accuracy: 0.4616 - val_loss: 1.2842 - val_accuracy: 0.4192\n",
      "Epoch 17/200\n",
      "61/61 [==============================] - 4s 63ms/step - loss: 1.2255 - accuracy: 0.4570 - val_loss: 1.2695 - val_accuracy: 0.4082\n",
      "\n",
      "Epoch 00017: ReduceLROnPlateau reducing learning rate to 0.0005000000237487257.\n",
      "Epoch 18/200\n",
      "61/61 [==============================] - 4s 63ms/step - loss: 1.2108 - accuracy: 0.4632 - val_loss: 1.2097 - val_accuracy: 0.4466\n",
      "Epoch 19/200\n",
      "61/61 [==============================] - 4s 64ms/step - loss: 1.1821 - accuracy: 0.4739 - val_loss: 1.3436 - val_accuracy: 0.3671\n",
      "Epoch 20/200\n",
      "61/61 [==============================] - 4s 63ms/step - loss: 1.1944 - accuracy: 0.4699 - val_loss: 1.2315 - val_accuracy: 0.4027\n",
      "Epoch 21/200\n",
      "61/61 [==============================] - 4s 62ms/step - loss: 1.1623 - accuracy: 0.4932 - val_loss: 1.2282 - val_accuracy: 0.4110\n",
      "Epoch 22/200\n",
      "61/61 [==============================] - 4s 64ms/step - loss: 1.1719 - accuracy: 0.4775 - val_loss: 1.1791 - val_accuracy: 0.4192\n",
      "Epoch 23/200\n",
      "61/61 [==============================] - 4s 63ms/step - loss: 1.1776 - accuracy: 0.4642 - val_loss: 1.2907 - val_accuracy: 0.3836\n",
      "Epoch 24/200\n",
      "61/61 [==============================] - 4s 62ms/step - loss: 1.1672 - accuracy: 0.5032 - val_loss: 1.2498 - val_accuracy: 0.3726\n",
      "\n",
      "Epoch 00024: ReduceLROnPlateau reducing learning rate to 0.0002500000118743628.\n",
      "Epoch 25/200\n",
      "61/61 [==============================] - 4s 65ms/step - loss: 1.1582 - accuracy: 0.4887 - val_loss: 1.2026 - val_accuracy: 0.4411\n",
      "Epoch 26/200\n",
      "61/61 [==============================] - 4s 63ms/step - loss: 1.1382 - accuracy: 0.5000 - val_loss: 1.1931 - val_accuracy: 0.4274\n",
      "Epoch 27/200\n",
      "61/61 [==============================] - 4s 64ms/step - loss: 1.1323 - accuracy: 0.5046 - val_loss: 1.1823 - val_accuracy: 0.4548\n",
      "Epoch 28/200\n",
      "61/61 [==============================] - 4s 63ms/step - loss: 1.1307 - accuracy: 0.5088 - val_loss: 1.1823 - val_accuracy: 0.4548\n",
      "Epoch 29/200\n",
      "61/61 [==============================] - 4s 64ms/step - loss: 1.1108 - accuracy: 0.5280 - val_loss: 1.2618 - val_accuracy: 0.4164\n",
      "Epoch 30/200\n",
      "61/61 [==============================] - 4s 62ms/step - loss: 1.1328 - accuracy: 0.5121 - val_loss: 1.1740 - val_accuracy: 0.4521\n",
      "Epoch 31/200\n",
      "61/61 [==============================] - 4s 63ms/step - loss: 1.0870 - accuracy: 0.5327 - val_loss: 1.2153 - val_accuracy: 0.4247\n",
      "Epoch 32/200\n",
      "61/61 [==============================] - 4s 64ms/step - loss: 1.1441 - accuracy: 0.5000 - val_loss: 1.1804 - val_accuracy: 0.4438\n",
      "Epoch 33/200\n",
      "61/61 [==============================] - 4s 63ms/step - loss: 1.1474 - accuracy: 0.4937 - val_loss: 1.2149 - val_accuracy: 0.4219\n",
      "\n",
      "Epoch 00033: ReduceLROnPlateau reducing learning rate to 0.0001250000059371814.\n",
      "Epoch 34/200\n",
      "61/61 [==============================] - 4s 64ms/step - loss: 1.1202 - accuracy: 0.5176 - val_loss: 1.1663 - val_accuracy: 0.4630\n",
      "Epoch 35/200\n",
      "61/61 [==============================] - 4s 65ms/step - loss: 1.0975 - accuracy: 0.5200 - val_loss: 1.1314 - val_accuracy: 0.4767\n",
      "Epoch 36/200\n",
      "61/61 [==============================] - 4s 63ms/step - loss: 1.1098 - accuracy: 0.5347 - val_loss: 1.1444 - val_accuracy: 0.4658\n",
      "Epoch 37/200\n",
      "61/61 [==============================] - 4s 64ms/step - loss: 1.0880 - accuracy: 0.5435 - val_loss: 1.1699 - val_accuracy: 0.4603\n",
      "Epoch 38/200\n",
      "61/61 [==============================] - 4s 63ms/step - loss: 1.0926 - accuracy: 0.5270 - val_loss: 1.1354 - val_accuracy: 0.4904\n",
      "Epoch 39/200\n",
      "61/61 [==============================] - 4s 62ms/step - loss: 1.0895 - accuracy: 0.5362 - val_loss: 1.1648 - val_accuracy: 0.4740\n",
      "Epoch 40/200\n",
      "61/61 [==============================] - 4s 64ms/step - loss: 1.1131 - accuracy: 0.5241 - val_loss: 1.1429 - val_accuracy: 0.4822\n",
      "Epoch 41/200\n",
      "61/61 [==============================] - 4s 63ms/step - loss: 1.0773 - accuracy: 0.5373 - val_loss: 1.1287 - val_accuracy: 0.4877\n",
      "Epoch 42/200\n",
      "61/61 [==============================] - 4s 64ms/step - loss: 1.0865 - accuracy: 0.5292 - val_loss: 1.1336 - val_accuracy: 0.4712\n",
      "Epoch 43/200\n",
      "61/61 [==============================] - 4s 64ms/step - loss: 1.0849 - accuracy: 0.5436 - val_loss: 1.1397 - val_accuracy: 0.4877\n",
      "Epoch 44/200\n",
      "61/61 [==============================] - 4s 63ms/step - loss: 1.0571 - accuracy: 0.5622 - val_loss: 1.1164 - val_accuracy: 0.5014\n",
      "Epoch 45/200\n",
      "61/61 [==============================] - 4s 63ms/step - loss: 1.0774 - accuracy: 0.5519 - val_loss: 1.1262 - val_accuracy: 0.4959\n",
      "Epoch 46/200\n",
      "61/61 [==============================] - 4s 63ms/step - loss: 1.0551 - accuracy: 0.5725 - val_loss: 1.0632 - val_accuracy: 0.5452\n",
      "Epoch 47/200\n",
      "61/61 [==============================] - 4s 63ms/step - loss: 1.0449 - accuracy: 0.5705 - val_loss: 1.0560 - val_accuracy: 0.5342\n",
      "Epoch 48/200\n",
      "61/61 [==============================] - 4s 64ms/step - loss: 1.0569 - accuracy: 0.5507 - val_loss: 1.0488 - val_accuracy: 0.5589\n",
      "Epoch 49/200\n",
      "61/61 [==============================] - 4s 63ms/step - loss: 1.0214 - accuracy: 0.5887 - val_loss: 1.0477 - val_accuracy: 0.5562\n",
      "Epoch 50/200\n",
      "61/61 [==============================] - 4s 63ms/step - loss: 0.9989 - accuracy: 0.6001 - val_loss: 1.0462 - val_accuracy: 0.5342\n",
      "Epoch 51/200\n",
      "61/61 [==============================] - 4s 64ms/step - loss: 1.0292 - accuracy: 0.5799 - val_loss: 1.0651 - val_accuracy: 0.5479\n",
      "Epoch 52/200\n",
      "61/61 [==============================] - 4s 63ms/step - loss: 0.9891 - accuracy: 0.5882 - val_loss: 1.0032 - val_accuracy: 0.5616\n",
      "Epoch 53/200\n",
      "61/61 [==============================] - 4s 62ms/step - loss: 0.9757 - accuracy: 0.6011 - val_loss: 0.9804 - val_accuracy: 0.5945\n",
      "Epoch 54/200\n",
      "61/61 [==============================] - 4s 63ms/step - loss: 0.9668 - accuracy: 0.6145 - val_loss: 1.0359 - val_accuracy: 0.5589\n",
      "Epoch 55/200\n",
      "61/61 [==============================] - 4s 63ms/step - loss: 0.9734 - accuracy: 0.6037 - val_loss: 0.9512 - val_accuracy: 0.5726\n",
      "Epoch 56/200\n",
      "61/61 [==============================] - 4s 64ms/step - loss: 0.9454 - accuracy: 0.6286 - val_loss: 0.9294 - val_accuracy: 0.6000\n",
      "Epoch 57/200\n",
      "61/61 [==============================] - 4s 63ms/step - loss: 0.9513 - accuracy: 0.6240 - val_loss: 0.9122 - val_accuracy: 0.6000\n",
      "Epoch 58/200\n",
      "61/61 [==============================] - 4s 63ms/step - loss: 0.9274 - accuracy: 0.6276 - val_loss: 0.9090 - val_accuracy: 0.6192\n",
      "Epoch 59/200\n",
      "61/61 [==============================] - 4s 63ms/step - loss: 0.9113 - accuracy: 0.6432 - val_loss: 0.8877 - val_accuracy: 0.6192\n",
      "Epoch 60/200\n",
      "61/61 [==============================] - 4s 63ms/step - loss: 0.9186 - accuracy: 0.6343 - val_loss: 0.8445 - val_accuracy: 0.6356\n",
      "Epoch 61/200\n",
      "61/61 [==============================] - 4s 64ms/step - loss: 0.9166 - accuracy: 0.6478 - val_loss: 0.9208 - val_accuracy: 0.5945\n",
      "Epoch 62/200\n",
      "61/61 [==============================] - 4s 62ms/step - loss: 0.9148 - accuracy: 0.6457 - val_loss: 0.8463 - val_accuracy: 0.6548\n",
      "Epoch 63/200\n",
      "61/61 [==============================] - 4s 64ms/step - loss: 0.8834 - accuracy: 0.6644 - val_loss: 0.8690 - val_accuracy: 0.6603\n",
      "Epoch 64/200\n",
      "61/61 [==============================] - 4s 65ms/step - loss: 0.8596 - accuracy: 0.6629 - val_loss: 0.9433 - val_accuracy: 0.6082\n",
      "Epoch 65/200\n",
      "61/61 [==============================] - 4s 66ms/step - loss: 0.8601 - accuracy: 0.6675 - val_loss: 0.7835 - val_accuracy: 0.7096\n",
      "Epoch 66/200\n",
      "61/61 [==============================] - 4s 65ms/step - loss: 0.8892 - accuracy: 0.6515 - val_loss: 0.7943 - val_accuracy: 0.7041\n",
      "Epoch 67/200\n",
      "61/61 [==============================] - 4s 65ms/step - loss: 0.8451 - accuracy: 0.6795 - val_loss: 0.8162 - val_accuracy: 0.6795\n",
      "Epoch 68/200\n",
      "61/61 [==============================] - 4s 65ms/step - loss: 0.8482 - accuracy: 0.6748 - val_loss: 0.8084 - val_accuracy: 0.6658\n",
      "Epoch 69/200\n",
      "61/61 [==============================] - 4s 65ms/step - loss: 0.7998 - accuracy: 0.6883 - val_loss: 0.7578 - val_accuracy: 0.6932\n",
      "Epoch 70/200\n",
      "61/61 [==============================] - 4s 63ms/step - loss: 0.8224 - accuracy: 0.6805 - val_loss: 0.8443 - val_accuracy: 0.6466\n",
      "Epoch 71/200\n",
      "61/61 [==============================] - 4s 64ms/step - loss: 0.8263 - accuracy: 0.6890 - val_loss: 0.8318 - val_accuracy: 0.6521\n",
      "\n",
      "Epoch 00071: ReduceLROnPlateau reducing learning rate to 6.25000029685907e-05.\n",
      "Epoch 72/200\n",
      "61/61 [==============================] - 4s 64ms/step - loss: 0.7977 - accuracy: 0.6955 - val_loss: 0.7284 - val_accuracy: 0.7178\n",
      "Epoch 73/200\n",
      "61/61 [==============================] - 4s 63ms/step - loss: 0.7987 - accuracy: 0.6854 - val_loss: 0.7912 - val_accuracy: 0.6822\n",
      "Epoch 74/200\n",
      "61/61 [==============================] - 4s 64ms/step - loss: 0.7764 - accuracy: 0.7116 - val_loss: 0.7211 - val_accuracy: 0.7205\n",
      "Epoch 75/200\n",
      "61/61 [==============================] - 4s 64ms/step - loss: 0.8254 - accuracy: 0.6815 - val_loss: 0.7293 - val_accuracy: 0.7041\n",
      "Epoch 76/200\n",
      "61/61 [==============================] - 4s 64ms/step - loss: 0.7517 - accuracy: 0.7282 - val_loss: 0.7135 - val_accuracy: 0.7288\n",
      "Epoch 77/200\n",
      "61/61 [==============================] - 4s 63ms/step - loss: 0.7666 - accuracy: 0.7054 - val_loss: 0.7173 - val_accuracy: 0.7123\n",
      "Epoch 78/200\n",
      "61/61 [==============================] - 4s 63ms/step - loss: 0.7559 - accuracy: 0.7152 - val_loss: 0.7123 - val_accuracy: 0.7452\n",
      "Epoch 79/200\n",
      "61/61 [==============================] - 4s 65ms/step - loss: 0.7833 - accuracy: 0.6981 - val_loss: 0.7258 - val_accuracy: 0.6822\n",
      "Epoch 80/200\n",
      "61/61 [==============================] - 4s 67ms/step - loss: 0.7614 - accuracy: 0.7127 - val_loss: 0.7256 - val_accuracy: 0.6986\n",
      "Epoch 81/200\n",
      "61/61 [==============================] - 4s 65ms/step - loss: 0.7299 - accuracy: 0.7272 - val_loss: 0.7067 - val_accuracy: 0.7068\n",
      "Epoch 82/200\n",
      "61/61 [==============================] - 4s 63ms/step - loss: 0.7412 - accuracy: 0.7152 - val_loss: 0.6692 - val_accuracy: 0.7562\n",
      "Epoch 83/200\n",
      "61/61 [==============================] - 4s 65ms/step - loss: 0.7368 - accuracy: 0.7239 - val_loss: 0.6790 - val_accuracy: 0.7397\n",
      "Epoch 84/200\n",
      "61/61 [==============================] - 4s 65ms/step - loss: 0.7505 - accuracy: 0.7147 - val_loss: 0.6841 - val_accuracy: 0.7260\n",
      "Epoch 85/200\n",
      "61/61 [==============================] - 4s 65ms/step - loss: 0.7437 - accuracy: 0.7204 - val_loss: 0.7299 - val_accuracy: 0.7123\n",
      "Epoch 86/200\n",
      "61/61 [==============================] - 4s 63ms/step - loss: 0.7494 - accuracy: 0.7199 - val_loss: 0.6910 - val_accuracy: 0.7342\n",
      "Epoch 87/200\n",
      "61/61 [==============================] - 4s 62ms/step - loss: 0.7311 - accuracy: 0.7261 - val_loss: 0.6687 - val_accuracy: 0.7452\n",
      "Epoch 88/200\n",
      "61/61 [==============================] - 4s 63ms/step - loss: 0.7224 - accuracy: 0.7147 - val_loss: 0.6930 - val_accuracy: 0.7260\n",
      "\n",
      "Epoch 00088: ReduceLROnPlateau reducing learning rate to 3.125000148429535e-05.\n",
      "Epoch 89/200\n",
      "61/61 [==============================] - 4s 62ms/step - loss: 0.7226 - accuracy: 0.7396 - val_loss: 0.6727 - val_accuracy: 0.7507\n",
      "Epoch 90/200\n",
      "61/61 [==============================] - 4s 63ms/step - loss: 0.7224 - accuracy: 0.7222 - val_loss: 0.6600 - val_accuracy: 0.7397\n",
      "Epoch 91/200\n",
      "61/61 [==============================] - 4s 63ms/step - loss: 0.7628 - accuracy: 0.7194 - val_loss: 0.6446 - val_accuracy: 0.7370\n",
      "Epoch 92/200\n",
      "61/61 [==============================] - 4s 64ms/step - loss: 0.7031 - accuracy: 0.7269 - val_loss: 0.6492 - val_accuracy: 0.7342\n",
      "Epoch 93/200\n",
      "61/61 [==============================] - 4s 63ms/step - loss: 0.6983 - accuracy: 0.7327 - val_loss: 0.6680 - val_accuracy: 0.7342\n",
      "Epoch 94/200\n",
      "61/61 [==============================] - 4s 63ms/step - loss: 0.7191 - accuracy: 0.7267 - val_loss: 0.6398 - val_accuracy: 0.7342\n",
      "\n",
      "Epoch 00094: ReduceLROnPlateau reducing learning rate to 1.5625000742147677e-05.\n",
      "Epoch 95/200\n",
      "61/61 [==============================] - 4s 64ms/step - loss: 0.7302 - accuracy: 0.7172 - val_loss: 0.6350 - val_accuracy: 0.7507\n",
      "Epoch 96/200\n",
      "61/61 [==============================] - 4s 63ms/step - loss: 0.7012 - accuracy: 0.7350 - val_loss: 0.6300 - val_accuracy: 0.7616\n",
      "Epoch 97/200\n",
      "61/61 [==============================] - 4s 63ms/step - loss: 0.6893 - accuracy: 0.7400 - val_loss: 0.6647 - val_accuracy: 0.7370\n",
      "Epoch 98/200\n",
      "61/61 [==============================] - 4s 64ms/step - loss: 0.7230 - accuracy: 0.7256 - val_loss: 0.6309 - val_accuracy: 0.7507\n",
      "Epoch 99/200\n",
      "61/61 [==============================] - 4s 64ms/step - loss: 0.7169 - accuracy: 0.7188 - val_loss: 0.6569 - val_accuracy: 0.7534\n",
      "Epoch 100/200\n",
      "61/61 [==============================] - 4s 63ms/step - loss: 0.7068 - accuracy: 0.7272 - val_loss: 0.6290 - val_accuracy: 0.7479\n",
      "Epoch 101/200\n",
      "61/61 [==============================] - 4s 63ms/step - loss: 0.6687 - accuracy: 0.7500 - val_loss: 0.6411 - val_accuracy: 0.7589\n",
      "Epoch 102/200\n",
      "61/61 [==============================] - 4s 64ms/step - loss: 0.7080 - accuracy: 0.7386 - val_loss: 0.6298 - val_accuracy: 0.7589\n",
      "\n",
      "Epoch 00102: ReduceLROnPlateau reducing learning rate to 1e-05.\n",
      "Epoch 103/200\n",
      "61/61 [==============================] - 4s 63ms/step - loss: 0.6910 - accuracy: 0.7308 - val_loss: 0.6262 - val_accuracy: 0.7589\n",
      "Epoch 104/200\n",
      "61/61 [==============================] - 4s 63ms/step - loss: 0.6707 - accuracy: 0.7448 - val_loss: 0.6213 - val_accuracy: 0.7534\n",
      "Epoch 105/200\n",
      "61/61 [==============================] - 4s 63ms/step - loss: 0.6773 - accuracy: 0.7355 - val_loss: 0.6211 - val_accuracy: 0.7534\n",
      "Epoch 106/200\n",
      "61/61 [==============================] - 4s 64ms/step - loss: 0.6923 - accuracy: 0.7376 - val_loss: 0.6316 - val_accuracy: 0.7562\n",
      "Epoch 107/200\n",
      "61/61 [==============================] - 4s 63ms/step - loss: 0.6794 - accuracy: 0.7526 - val_loss: 0.6349 - val_accuracy: 0.7534\n",
      "Epoch 108/200\n",
      "61/61 [==============================] - 4s 64ms/step - loss: 0.6595 - accuracy: 0.7454 - val_loss: 0.6243 - val_accuracy: 0.7507\n",
      "Epoch 109/200\n",
      "61/61 [==============================] - 4s 63ms/step - loss: 0.6774 - accuracy: 0.7438 - val_loss: 0.6243 - val_accuracy: 0.7534\n",
      "Epoch 110/200\n",
      "61/61 [==============================] - 4s 63ms/step - loss: 0.6950 - accuracy: 0.7396 - val_loss: 0.6173 - val_accuracy: 0.7644\n",
      "Epoch 111/200\n"
     ]
    },
    {
     "name": "stdout",
     "output_type": "stream",
     "text": [
      "61/61 [==============================] - 4s 64ms/step - loss: 0.6596 - accuracy: 0.7676 - val_loss: 0.6158 - val_accuracy: 0.7589\n",
      "Epoch 112/200\n",
      "61/61 [==============================] - 4s 62ms/step - loss: 0.6925 - accuracy: 0.7342 - val_loss: 0.6220 - val_accuracy: 0.7562\n",
      "Epoch 113/200\n",
      "61/61 [==============================] - 4s 64ms/step - loss: 0.6889 - accuracy: 0.7341 - val_loss: 0.6198 - val_accuracy: 0.7671\n",
      "Epoch 114/200\n",
      "61/61 [==============================] - 4s 64ms/step - loss: 0.6611 - accuracy: 0.7573 - val_loss: 0.6054 - val_accuracy: 0.7644\n",
      "Epoch 115/200\n",
      "61/61 [==============================] - 4s 64ms/step - loss: 0.6933 - accuracy: 0.7360 - val_loss: 0.6165 - val_accuracy: 0.7616\n",
      "Epoch 116/200\n",
      "61/61 [==============================] - 4s 64ms/step - loss: 0.6829 - accuracy: 0.7516 - val_loss: 0.6213 - val_accuracy: 0.7589\n",
      "Epoch 117/200\n",
      "61/61 [==============================] - 4s 63ms/step - loss: 0.6544 - accuracy: 0.7631 - val_loss: 0.6193 - val_accuracy: 0.7616\n",
      "Epoch 118/200\n",
      "61/61 [==============================] - 4s 64ms/step - loss: 0.6657 - accuracy: 0.7485 - val_loss: 0.6166 - val_accuracy: 0.7644\n",
      "Epoch 119/200\n",
      "61/61 [==============================] - 4s 63ms/step - loss: 0.6598 - accuracy: 0.7707 - val_loss: 0.6169 - val_accuracy: 0.7589\n",
      "Epoch 120/200\n",
      "61/61 [==============================] - 4s 64ms/step - loss: 0.6765 - accuracy: 0.7417 - val_loss: 0.6044 - val_accuracy: 0.7671\n",
      "Epoch 121/200\n",
      "61/61 [==============================] - 4s 63ms/step - loss: 0.6471 - accuracy: 0.7588 - val_loss: 0.6082 - val_accuracy: 0.7644\n",
      "Epoch 122/200\n",
      "61/61 [==============================] - 4s 64ms/step - loss: 0.6652 - accuracy: 0.7464 - val_loss: 0.6147 - val_accuracy: 0.7562\n",
      "Epoch 123/200\n",
      "61/61 [==============================] - 4s 63ms/step - loss: 0.7018 - accuracy: 0.7396 - val_loss: 0.6054 - val_accuracy: 0.7671\n",
      "Epoch 124/200\n",
      "61/61 [==============================] - 4s 62ms/step - loss: 0.6608 - accuracy: 0.7510 - val_loss: 0.6027 - val_accuracy: 0.7699\n",
      "Epoch 125/200\n",
      "61/61 [==============================] - 4s 63ms/step - loss: 0.6564 - accuracy: 0.7464 - val_loss: 0.6041 - val_accuracy: 0.7616\n",
      "Epoch 126/200\n",
      "61/61 [==============================] - 4s 65ms/step - loss: 0.6475 - accuracy: 0.7562 - val_loss: 0.6167 - val_accuracy: 0.7589\n",
      "Epoch 127/200\n",
      "61/61 [==============================] - 4s 67ms/step - loss: 0.6611 - accuracy: 0.7500 - val_loss: 0.6207 - val_accuracy: 0.7589\n",
      "Epoch 128/200\n",
      "61/61 [==============================] - 4s 65ms/step - loss: 0.6512 - accuracy: 0.7521 - val_loss: 0.6171 - val_accuracy: 0.7562\n",
      "Epoch 129/200\n",
      "61/61 [==============================] - 4s 64ms/step - loss: 0.6466 - accuracy: 0.7640 - val_loss: 0.6115 - val_accuracy: 0.7644\n",
      "Epoch 130/200\n",
      "61/61 [==============================] - 4s 65ms/step - loss: 0.6726 - accuracy: 0.7464 - val_loss: 0.6092 - val_accuracy: 0.7616\n",
      "Epoch 131/200\n",
      "61/61 [==============================] - 4s 66ms/step - loss: 0.6566 - accuracy: 0.7599 - val_loss: 0.6040 - val_accuracy: 0.7589\n",
      "Epoch 132/200\n",
      "61/61 [==============================] - 4s 68ms/step - loss: 0.6877 - accuracy: 0.7386 - val_loss: 0.5980 - val_accuracy: 0.7616\n",
      "Epoch 133/200\n",
      "61/61 [==============================] - 4s 69ms/step - loss: 0.6548 - accuracy: 0.7561 - val_loss: 0.6026 - val_accuracy: 0.7562\n",
      "Epoch 134/200\n",
      "61/61 [==============================] - 4s 68ms/step - loss: 0.6380 - accuracy: 0.7579 - val_loss: 0.6116 - val_accuracy: 0.7507\n",
      "Epoch 135/200\n",
      "61/61 [==============================] - 4s 66ms/step - loss: 0.6701 - accuracy: 0.7516 - val_loss: 0.5967 - val_accuracy: 0.7616\n",
      "Epoch 136/200\n",
      "61/61 [==============================] - 4s 68ms/step - loss: 0.6757 - accuracy: 0.7438 - val_loss: 0.5864 - val_accuracy: 0.7836\n",
      "Epoch 137/200\n",
      "61/61 [==============================] - 4s 68ms/step - loss: 0.6783 - accuracy: 0.7541 - val_loss: 0.5827 - val_accuracy: 0.7863\n",
      "Epoch 138/200\n",
      "61/61 [==============================] - 4s 66ms/step - loss: 0.6541 - accuracy: 0.7531 - val_loss: 0.5860 - val_accuracy: 0.7699\n",
      "Epoch 139/200\n",
      "61/61 [==============================] - 4s 66ms/step - loss: 0.6648 - accuracy: 0.7469 - val_loss: 0.5897 - val_accuracy: 0.7753\n",
      "Epoch 140/200\n",
      "61/61 [==============================] - 4s 63ms/step - loss: 0.6514 - accuracy: 0.7552 - val_loss: 0.5983 - val_accuracy: 0.7644\n",
      "Epoch 141/200\n",
      "61/61 [==============================] - 4s 63ms/step - loss: 0.6470 - accuracy: 0.7666 - val_loss: 0.5990 - val_accuracy: 0.7699\n",
      "Epoch 142/200\n",
      "61/61 [==============================] - 4s 66ms/step - loss: 0.6613 - accuracy: 0.7376 - val_loss: 0.5952 - val_accuracy: 0.7671\n",
      "Epoch 143/200\n",
      "61/61 [==============================] - 4s 64ms/step - loss: 0.6414 - accuracy: 0.7552 - val_loss: 0.5963 - val_accuracy: 0.7753\n",
      "Epoch 144/200\n",
      "61/61 [==============================] - 4s 63ms/step - loss: 0.6633 - accuracy: 0.7459 - val_loss: 0.5847 - val_accuracy: 0.7644\n",
      "Epoch 145/200\n",
      "61/61 [==============================] - 4s 65ms/step - loss: 0.6542 - accuracy: 0.7679 - val_loss: 0.5769 - val_accuracy: 0.7836\n",
      "Epoch 146/200\n",
      "61/61 [==============================] - 4s 62ms/step - loss: 0.6737 - accuracy: 0.7458 - val_loss: 0.5867 - val_accuracy: 0.7753\n",
      "Epoch 147/200\n",
      "61/61 [==============================] - 4s 65ms/step - loss: 0.6506 - accuracy: 0.7505 - val_loss: 0.5894 - val_accuracy: 0.7616\n",
      "Epoch 148/200\n",
      "61/61 [==============================] - 4s 62ms/step - loss: 0.6539 - accuracy: 0.7511 - val_loss: 0.5922 - val_accuracy: 0.7671\n",
      "Epoch 149/200\n",
      "61/61 [==============================] - 4s 63ms/step - loss: 0.6508 - accuracy: 0.7682 - val_loss: 0.5865 - val_accuracy: 0.7726\n",
      "Epoch 150/200\n",
      "61/61 [==============================] - 4s 64ms/step - loss: 0.6326 - accuracy: 0.7666 - val_loss: 0.5819 - val_accuracy: 0.7644\n",
      "Epoch 151/200\n",
      "61/61 [==============================] - 4s 64ms/step - loss: 0.6400 - accuracy: 0.7551 - val_loss: 0.5731 - val_accuracy: 0.7781\n",
      "Epoch 152/200\n",
      "61/61 [==============================] - 4s 63ms/step - loss: 0.6418 - accuracy: 0.7721 - val_loss: 0.5776 - val_accuracy: 0.7808\n",
      "Epoch 153/200\n",
      "61/61 [==============================] - 4s 64ms/step - loss: 0.6624 - accuracy: 0.7495 - val_loss: 0.5699 - val_accuracy: 0.7918\n",
      "Epoch 154/200\n",
      "61/61 [==============================] - 4s 64ms/step - loss: 0.6267 - accuracy: 0.7659 - val_loss: 0.5681 - val_accuracy: 0.7890\n",
      "Epoch 155/200\n",
      "61/61 [==============================] - 4s 63ms/step - loss: 0.6424 - accuracy: 0.7595 - val_loss: 0.5637 - val_accuracy: 0.7863\n",
      "Epoch 156/200\n",
      "61/61 [==============================] - 4s 64ms/step - loss: 0.6565 - accuracy: 0.7480 - val_loss: 0.5836 - val_accuracy: 0.7616\n",
      "Epoch 157/200\n",
      "61/61 [==============================] - 4s 64ms/step - loss: 0.6469 - accuracy: 0.7562 - val_loss: 0.5769 - val_accuracy: 0.7699\n",
      "Epoch 158/200\n",
      "61/61 [==============================] - 4s 63ms/step - loss: 0.6411 - accuracy: 0.7505 - val_loss: 0.5631 - val_accuracy: 0.7863\n",
      "Epoch 159/200\n",
      "61/61 [==============================] - 4s 65ms/step - loss: 0.6325 - accuracy: 0.7725 - val_loss: 0.5857 - val_accuracy: 0.7726\n",
      "Epoch 160/200\n",
      "61/61 [==============================] - 4s 63ms/step - loss: 0.6794 - accuracy: 0.7479 - val_loss: 0.5611 - val_accuracy: 0.7836\n",
      "Epoch 161/200\n",
      "61/61 [==============================] - 4s 64ms/step - loss: 0.6561 - accuracy: 0.7536 - val_loss: 0.5816 - val_accuracy: 0.7753\n",
      "Epoch 162/200\n",
      "61/61 [==============================] - 4s 64ms/step - loss: 0.6459 - accuracy: 0.7614 - val_loss: 0.5572 - val_accuracy: 0.7863\n",
      "Epoch 163/200\n",
      "61/61 [==============================] - 4s 63ms/step - loss: 0.6282 - accuracy: 0.7805 - val_loss: 0.5655 - val_accuracy: 0.7781\n",
      "Epoch 164/200\n",
      "61/61 [==============================] - 4s 63ms/step - loss: 0.6327 - accuracy: 0.7619 - val_loss: 0.5609 - val_accuracy: 0.7808\n",
      "Epoch 165/200\n",
      "61/61 [==============================] - 4s 64ms/step - loss: 0.6420 - accuracy: 0.7552 - val_loss: 0.5824 - val_accuracy: 0.7781\n",
      "Epoch 166/200\n",
      "61/61 [==============================] - 4s 64ms/step - loss: 0.6261 - accuracy: 0.7674 - val_loss: 0.5586 - val_accuracy: 0.7863\n",
      "Epoch 167/200\n",
      "61/61 [==============================] - 4s 64ms/step - loss: 0.6266 - accuracy: 0.7739 - val_loss: 0.5670 - val_accuracy: 0.7808\n"
     ]
    },
    {
     "name": "stdout",
     "output_type": "stream",
     "text": [
      "Epoch 168/200\n",
      "61/61 [==============================] - 4s 63ms/step - loss: 0.6601 - accuracy: 0.7505 - val_loss: 0.5671 - val_accuracy: 0.7863\n",
      "Epoch 169/200\n",
      "61/61 [==============================] - 4s 64ms/step - loss: 0.6353 - accuracy: 0.7624 - val_loss: 0.5596 - val_accuracy: 0.7863\n",
      "Epoch 170/200\n",
      "61/61 [==============================] - 4s 63ms/step - loss: 0.6205 - accuracy: 0.7721 - val_loss: 0.5654 - val_accuracy: 0.7863\n",
      "Epoch 171/200\n",
      "61/61 [==============================] - 4s 64ms/step - loss: 0.6202 - accuracy: 0.7739 - val_loss: 0.5722 - val_accuracy: 0.7753\n",
      "Epoch 172/200\n",
      "61/61 [==============================] - 4s 64ms/step - loss: 0.6248 - accuracy: 0.7669 - val_loss: 0.5466 - val_accuracy: 0.7945\n",
      "Epoch 173/200\n",
      "61/61 [==============================] - 4s 63ms/step - loss: 0.6201 - accuracy: 0.7811 - val_loss: 0.5608 - val_accuracy: 0.7890\n",
      "Epoch 174/200\n",
      "61/61 [==============================] - 4s 62ms/step - loss: 0.6299 - accuracy: 0.7673 - val_loss: 0.5434 - val_accuracy: 0.7890\n",
      "Epoch 175/200\n",
      "61/61 [==============================] - 4s 64ms/step - loss: 0.6382 - accuracy: 0.7552 - val_loss: 0.5478 - val_accuracy: 0.7918\n",
      "Epoch 176/200\n",
      "61/61 [==============================] - 4s 64ms/step - loss: 0.6484 - accuracy: 0.7485 - val_loss: 0.5378 - val_accuracy: 0.8027\n",
      "Epoch 177/200\n",
      "61/61 [==============================] - 4s 63ms/step - loss: 0.6059 - accuracy: 0.7862 - val_loss: 0.5575 - val_accuracy: 0.7918\n",
      "Epoch 178/200\n",
      "61/61 [==============================] - 4s 65ms/step - loss: 0.6421 - accuracy: 0.7608 - val_loss: 0.5402 - val_accuracy: 0.8000\n",
      "Epoch 179/200\n",
      "61/61 [==============================] - 4s 63ms/step - loss: 0.6341 - accuracy: 0.7624 - val_loss: 0.5536 - val_accuracy: 0.7836\n",
      "Epoch 180/200\n",
      "61/61 [==============================] - 4s 65ms/step - loss: 0.6031 - accuracy: 0.7806 - val_loss: 0.5317 - val_accuracy: 0.8082\n",
      "Epoch 181/200\n",
      "61/61 [==============================] - 4s 62ms/step - loss: 0.6140 - accuracy: 0.7671 - val_loss: 0.5563 - val_accuracy: 0.7890\n",
      "Epoch 182/200\n",
      "61/61 [==============================] - 4s 63ms/step - loss: 0.6047 - accuracy: 0.7749 - val_loss: 0.5618 - val_accuracy: 0.7781\n",
      "Epoch 183/200\n",
      "61/61 [==============================] - 4s 65ms/step - loss: 0.6188 - accuracy: 0.7765 - val_loss: 0.5308 - val_accuracy: 0.8082\n",
      "Epoch 184/200\n",
      "61/61 [==============================] - 4s 64ms/step - loss: 0.6281 - accuracy: 0.7754 - val_loss: 0.5376 - val_accuracy: 0.8082\n",
      "Epoch 185/200\n",
      "61/61 [==============================] - 4s 65ms/step - loss: 0.6186 - accuracy: 0.7754 - val_loss: 0.5484 - val_accuracy: 0.7918\n",
      "Epoch 186/200\n",
      "61/61 [==============================] - 4s 65ms/step - loss: 0.6186 - accuracy: 0.7702 - val_loss: 0.5407 - val_accuracy: 0.7945\n",
      "Epoch 187/200\n",
      "61/61 [==============================] - 4s 65ms/step - loss: 0.6192 - accuracy: 0.7749 - val_loss: 0.5474 - val_accuracy: 0.7945\n",
      "Epoch 188/200\n",
      "61/61 [==============================] - 4s 69ms/step - loss: 0.6261 - accuracy: 0.7728 - val_loss: 0.5337 - val_accuracy: 0.8137\n",
      "Epoch 189/200\n",
      "61/61 [==============================] - 4s 66ms/step - loss: 0.6185 - accuracy: 0.7682 - val_loss: 0.5439 - val_accuracy: 0.8000\n",
      "Epoch 190/200\n",
      "61/61 [==============================] - 4s 66ms/step - loss: 0.6046 - accuracy: 0.7739 - val_loss: 0.5298 - val_accuracy: 0.8082\n",
      "Epoch 191/200\n",
      "61/61 [==============================] - 4s 66ms/step - loss: 0.6158 - accuracy: 0.7702 - val_loss: 0.5565 - val_accuracy: 0.7890\n",
      "Epoch 192/200\n",
      "61/61 [==============================] - 4s 65ms/step - loss: 0.5832 - accuracy: 0.7827 - val_loss: 0.5350 - val_accuracy: 0.8082\n",
      "Epoch 193/200\n",
      "61/61 [==============================] - 4s 65ms/step - loss: 0.6103 - accuracy: 0.7868 - val_loss: 0.5306 - val_accuracy: 0.8082\n",
      "Epoch 194/200\n",
      "61/61 [==============================] - 4s 63ms/step - loss: 0.5989 - accuracy: 0.7842 - val_loss: 0.5438 - val_accuracy: 0.8000\n",
      "Epoch 195/200\n",
      "61/61 [==============================] - 4s 64ms/step - loss: 0.5970 - accuracy: 0.7676 - val_loss: 0.5306 - val_accuracy: 0.8055\n",
      "Epoch 196/200\n",
      "61/61 [==============================] - 4s 64ms/step - loss: 0.6275 - accuracy: 0.7692 - val_loss: 0.5469 - val_accuracy: 0.8000\n",
      "Epoch 197/200\n",
      "61/61 [==============================] - 4s 63ms/step - loss: 0.6025 - accuracy: 0.7853 - val_loss: 0.5461 - val_accuracy: 0.7890\n",
      "Epoch 198/200\n",
      "61/61 [==============================] - 4s 65ms/step - loss: 0.6141 - accuracy: 0.7666 - val_loss: 0.5310 - val_accuracy: 0.8055\n",
      "Epoch 199/200\n",
      "61/61 [==============================] - 4s 65ms/step - loss: 0.6175 - accuracy: 0.7713 - val_loss: 0.5290 - val_accuracy: 0.8137\n",
      "Epoch 200/200\n",
      "61/61 [==============================] - 4s 69ms/step - loss: 0.5922 - accuracy: 0.7920 - val_loss: 0.5217 - val_accuracy: 0.8082\n"
     ]
    },
    {
     "data": {
      "text/plain": [
       "<keras.callbacks.callbacks.History at 0x2a3cb8937c8>"
      ]
     },
     "execution_count": 14,
     "metadata": {},
     "output_type": "execute_result"
    }
   ],
   "source": [
    "# Start to train model\n",
    "model.fit_generator(data_aug.flow(train_x,train_y,batch_size=32),\n",
    "                    steps_per_epoch=train_x.shape[0]//32,\n",
    "                    epochs=200,\n",
    "                    verbose=1,\n",
    "                    validation_data=(test_x,test_y),\n",
    "                    callbacks=[ES_monitor,LR_reduce],\n",
    "                    use_multiprocessing=False,\n",
    "                    workers=1)"
   ]
  },
  {
   "cell_type": "code",
   "execution_count": 15,
   "metadata": {},
   "outputs": [
    {
     "data": {
      "text/plain": [
       "<matplotlib.legend.Legend at 0x2a3a6a42788>"
      ]
     },
     "execution_count": 15,
     "metadata": {},
     "output_type": "execute_result"
    },
    {
     "data": {
      "image/png": "[encoded data removed]",
      "text/plain": [
       "<Figure size 432x288 with 1 Axes>"
      ]
     },
     "metadata": {
      "needs_background": "light"
     },
     "output_type": "display_data"
    }
   ],
   "source": [
    "# Plot loss\n",
    "history = model.history.history\n",
    "offset = 1\n",
    "epochs = range(offset, len(history['loss']))\n",
    "plt.xlabel('epochs')\n",
    "plt.ylabel('loss')\n",
    "plt.plot(epochs, history['loss'][offset:], label='train')\n",
    "plt.plot(epochs, history['val_loss'][offset:], label='test')\n",
    "plt.legend()"
   ]
  },
  {
   "cell_type": "code",
   "execution_count": 16,
   "metadata": {},
   "outputs": [
    {
     "data": {
      "text/plain": [
       "<matplotlib.legend.Legend at 0x2a3a6a42588>"
      ]
     },
     "execution_count": 16,
     "metadata": {},
     "output_type": "execute_result"
    },
    {
     "data": {
      "image/png": "[encoded data removed]",
      "text/plain": [
       "<Figure size 432x288 with 1 Axes>"
      ]
     },
     "metadata": {
      "needs_background": "light"
     },
     "output_type": "display_data"
    }
   ],
   "source": [
    "# plot accuracy\n",
    "plt.xlabel('epochs')\n",
    "plt.ylabel('accuracy')\n",
    "plt.plot(history[f'accuracy'], label='train')\n",
    "plt.plot(history[f'val_accuracy'], label='test')\n",
    "plt.legend()"
   ]
  },
  {
   "cell_type": "code",
   "execution_count": 17,
   "metadata": {},
   "outputs": [
    {
     "data": {
      "text/plain": [
       "(1821, 0)"
      ]
     },
     "execution_count": 17,
     "metadata": {},
     "output_type": "execute_result"
    }
   ],
   "source": [
    "Y1 = Test.copy()\n",
    "del Y1['image_id']\n",
    "Y1.head()\n",
    "Y_test = np.array(Y1.values)\n",
    "Y_test.shape"
   ]
  },
  {
   "cell_type": "code",
   "execution_count": 18,
   "metadata": {},
   "outputs": [],
   "source": [
    "# predict on the testing set\n",
    "predict_prob = model.predict(X_test)\n",
    "df_predict_prob = pd.DataFrame(predict_prob, columns=['healthy','multiple_diseases','rust','scab'])"
   ]
  },
  {
   "cell_type": "code",
   "execution_count": 19,
   "metadata": {},
   "outputs": [],
   "source": [
    "# output csv files for submission\n",
    "frame = [Test['image_id'], df_predict_prob]\n",
    "df_submission = pd.concat(frame, axis=1)\n",
    "df_submission.to_csv(r'submisson.csv', index=False)"
   ]
  }
 ],
 "metadata": {
  "kernelspec": {
   "display_name": "Python 3",
   "language": "python",
   "name": "python3"
  },
  "language_info": {
   "codemirror_mode": {
    "name": "ipython",
    "version": 3
   },
   "file_extension": ".py",
   "mimetype": "text/x-python",
   "name": "python",
   "nbconvert_exporter": "python",
   "pygments_lexer": "ipython3",
   "version": "3.7.7"
  }
 },
 "nbformat": 4,
 "nbformat_minor": 4
}
